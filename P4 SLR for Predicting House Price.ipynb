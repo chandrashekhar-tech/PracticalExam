{
 "cells": [
  {
   "cell_type": "markdown",
   "id": "03678df5",
   "metadata": {},
   "source": [
    "## Importing essential libraries"
   ]
  },
  {
   "cell_type": "code",
   "execution_count": 1,
   "id": "884de28a",
   "metadata": {},
   "outputs": [],
   "source": [
    "import pandas as pd\n",
    "import numpy as np\n",
    "import matplotlib.pyplot as plt"
   ]
  },
  {
   "cell_type": "markdown",
   "id": "c13b9207",
   "metadata": {},
   "source": [
    "## Importing Dataset"
   ]
  },
  {
   "cell_type": "code",
   "execution_count": 3,
   "id": "7f4e3af3",
   "metadata": {},
   "outputs": [
    {
     "data": {
      "text/html": [
       "<div>\n",
       "<style scoped>\n",
       "    .dataframe tbody tr th:only-of-type {\n",
       "        vertical-align: middle;\n",
       "    }\n",
       "\n",
       "    .dataframe tbody tr th {\n",
       "        vertical-align: top;\n",
       "    }\n",
       "\n",
       "    .dataframe thead th {\n",
       "        text-align: right;\n",
       "    }\n",
       "</style>\n",
       "<table border=\"1\" class=\"dataframe\">\n",
       "  <thead>\n",
       "    <tr style=\"text-align: right;\">\n",
       "      <th></th>\n",
       "      <th>Id</th>\n",
       "      <th>SalePrice</th>\n",
       "    </tr>\n",
       "  </thead>\n",
       "  <tbody>\n",
       "    <tr>\n",
       "      <th>0</th>\n",
       "      <td>1</td>\n",
       "      <td>208500.0000</td>\n",
       "    </tr>\n",
       "    <tr>\n",
       "      <th>1</th>\n",
       "      <td>2</td>\n",
       "      <td>171692.7991</td>\n",
       "    </tr>\n",
       "    <tr>\n",
       "      <th>2</th>\n",
       "      <td>3</td>\n",
       "      <td>179750.7438</td>\n",
       "    </tr>\n",
       "    <tr>\n",
       "      <th>3</th>\n",
       "      <td>4</td>\n",
       "      <td>98536.9600</td>\n",
       "    </tr>\n",
       "    <tr>\n",
       "      <th>4</th>\n",
       "      <td>5</td>\n",
       "      <td>198333.9509</td>\n",
       "    </tr>\n",
       "  </tbody>\n",
       "</table>\n",
       "</div>"
      ],
      "text/plain": [
       "   Id    SalePrice\n",
       "0   1  208500.0000\n",
       "1   2  171692.7991\n",
       "2   3  179750.7438\n",
       "3   4   98536.9600\n",
       "4   5  198333.9509"
      ]
     },
     "execution_count": 3,
     "metadata": {},
     "output_type": "execute_result"
    }
   ],
   "source": [
    "df = pd.read_csv('HousePricePrediction.csv')\n",
    "df.head()"
   ]
  },
  {
   "cell_type": "markdown",
   "id": "21274626",
   "metadata": {},
   "source": [
    "## Allocating column values to x&y variables"
   ]
  },
  {
   "cell_type": "code",
   "execution_count": 6,
   "id": "d20cd027",
   "metadata": {},
   "outputs": [],
   "source": [
    "x = df.iloc[:,:1]\n",
    "y = df.iloc[:,-1]"
   ]
  },
  {
   "cell_type": "markdown",
   "id": "6f945bb2",
   "metadata": {},
   "source": [
    "## Splitting the Dataset"
   ]
  },
  {
   "cell_type": "code",
   "execution_count": 9,
   "id": "2bd3f0df",
   "metadata": {},
   "outputs": [],
   "source": [
    "from sklearn.model_selection import train_test_split\n",
    "X_train, X_test, Y_train, Y_test = train_test_split(x, y, test_size = 0.2, random_state = 5)"
   ]
  },
  {
   "cell_type": "markdown",
   "id": "adaa68b9",
   "metadata": {},
   "source": [
    "## Training the model"
   ]
  },
  {
   "cell_type": "code",
   "execution_count": 12,
   "id": "ecd0b5d9",
   "metadata": {},
   "outputs": [
    {
     "data": {
      "text/plain": [
       "LinearRegression()"
      ]
     },
     "execution_count": 12,
     "metadata": {},
     "output_type": "execute_result"
    }
   ],
   "source": [
    "from sklearn.linear_model import LinearRegression\n",
    "Regressor = LinearRegression()\n",
    "Regressor.fit(X_train,Y_train)"
   ]
  },
  {
   "cell_type": "markdown",
   "id": "2979daa3",
   "metadata": {},
   "source": [
    "## Predicting Values"
   ]
  },
  {
   "cell_type": "code",
   "execution_count": 14,
   "id": "50758391",
   "metadata": {},
   "outputs": [
    {
     "name": "stdout",
     "output_type": "stream",
     "text": [
      "[182382.49867246 169230.79185837 192980.47600808 184233.95254434\n",
      " 167123.96503863 179892.61243096 167570.86769737 180594.88803753\n",
      " 195214.98930174 183595.52017473 194193.49751036 175806.64526541\n",
      " 170316.12688672 181935.59601373 183659.36341169 178615.74769172\n",
      " 187809.17381419 188128.389999   182318.6554355  178168.84503299\n",
      " 178232.68826995 187745.33057723 178807.27740261 179828.76919399\n",
      " 193235.84895593 182574.02838334 171273.77544114 183531.67693777\n",
      " 192022.82745366 175168.2128958  175487.42908061 183787.04988561\n",
      " 178743.43416565 189660.62768608 169933.06746495 185574.66052054\n",
      " 179126.49358742 178871.12063957 170699.18630848 169039.26214748\n",
      " 168911.57567356 186915.36849673 186659.99554889 169422.32156925\n",
      " 188256.07647293 195598.04872351 166102.47324725 169805.38099102\n",
      " 194576.55693212 182446.34190942 176445.07763503 178296.53150692\n",
      " 185127.75786181 195981.10814528 176764.29381984 191512.08155797\n",
      " 195023.45959086 191448.23832101 169741.53775406 189405.25473823\n",
      " 170507.6565976  166294.00295813 168145.45683002 173125.22931303\n",
      " 168336.98654091 189916.00063393 171720.67809987 172103.73752164\n",
      " 181105.63393323 187426.11439242 167698.55417129 171912.20781076\n",
      " 169358.47833229 187873.01705116 190362.90329266 173572.13197176\n",
      " 193555.06514074 176700.45058288 172742.16989126 174976.68318491\n",
      " 188000.70352508 196428.01080401 167634.71093433 186532.30907496\n",
      " 190937.49242531 194448.8704582  189979.84387089 175742.80202845\n",
      " 184936.22815092 188192.23323596 185191.60109877 195661.89196047\n",
      " 167507.0244604  178679.59092869 176508.92087199 188511.44942077\n",
      " 182829.40133119 173380.60226087 188766.82236862 188830.66560558]\n"
     ]
    }
   ],
   "source": [
    "Y_pred = Regressor.predict(X_test)\n",
    "print(Y_pred)"
   ]
  },
  {
   "cell_type": "markdown",
   "id": "1e9382d4",
   "metadata": {},
   "source": [
    "## Model Visualization (optional)"
   ]
  },
  {
   "cell_type": "code",
   "execution_count": 21,
   "id": "680e1a4f",
   "metadata": {},
   "outputs": [
    {
     "data": {
      "text/plain": [
       "[<matplotlib.lines.Line2D at 0x18fdf5ab940>]"
      ]
     },
     "execution_count": 21,
     "metadata": {},
     "output_type": "execute_result"
    },
    {
     "data": {
      "image/png": "[encoded data removed]",
      "text/plain": [
       "<Figure size 432x288 with 1 Axes>"
      ]
     },
     "metadata": {
      "needs_background": "light"
     },
     "output_type": "display_data"
    }
   ],
   "source": [
    "plt.title('House Price Prediction')\n",
    "plt.xlabel('House ID')\n",
    "plt.ylabel('House Price')\n",
    "plt.scatter(x,y, color = 'red')\n",
    "plt.plot(X_test,Y_pred)"
   ]
  }
 ],
 "metadata": {
  "kernelspec": {
   "display_name": "Python 3 (ipykernel)",
   "language": "python",
   "name": "python3"
  },
  "language_info": {
   "codemirror_mode": {
    "name": "ipython",
    "version": 3
   },
   "file_extension": ".py",
   "mimetype": "text/x-python",
   "name": "python",
   "nbconvert_exporter": "python",
   "pygments_lexer": "ipython3",
   "version": "3.9.7"
  }
 },
 "nbformat": 4,
 "nbformat_minor": 5
}
